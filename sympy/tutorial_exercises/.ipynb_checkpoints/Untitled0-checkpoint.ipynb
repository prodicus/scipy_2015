{
 "metadata": {
  "name": "",
  "signature": "sha256:38026d72155aaffc0bf47f565d5ea46ab8522b35cae53ef338bf73fb48b117fa"
 },
 "nbformat": 3,
 "nbformat_minor": 0,
 "worksheets": []
}