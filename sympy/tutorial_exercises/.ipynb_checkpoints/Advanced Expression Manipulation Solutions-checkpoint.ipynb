{
 "metadata": {
  "name": "",
  "signature": "sha256:e0b439f2a97b0911a972c7ec62c1840ed5b08a289ea36787dc6abfb4315c683d"
 },
 "nbformat": 3,
 "nbformat_minor": 0,
 "worksheets": [
  {
   "cells": [
    {
     "cell_type": "heading",
     "level": 1,
     "metadata": {},
     "source": [
      "Advanced Expression Manipulation Solutions"
     ]
    },
    {
     "cell_type": "code",
     "collapsed": false,
     "input": [
      "from sympy import *\n",
      "x, y, z = symbols('x y z')\n",
      "init_printing()\n",
      "from IPython.display import display"
     ],
     "language": "python",
     "metadata": {},
     "outputs": [],
     "prompt_number": 34
    },
    {
     "cell_type": "markdown",
     "metadata": {},
     "source": [
      "For each exercise, fill in the function according to its docstring. "
     ]
    },
    {
     "cell_type": "heading",
     "level": 2,
     "metadata": {},
     "source": [
      "Creating expressions from classes"
     ]
    },
    {
     "cell_type": "markdown",
     "metadata": {},
     "source": [
      "Create the following objects without using any mathematical operators like `+`, `-`, `*`, `/`, or `**` by explicitly using the classes `Add`, `Mul`, and `Pow`.  You may use `x` instead of `Symbol('x')` and `4` instead of `Integer(4)`.\n",
      "\n",
      "$$x^2 + 4xyz$$\n",
      "$$x^{(x^y)}$$\n",
      "$$x - \\frac{y}{z}$$\n"
     ]
    },
    {
     "cell_type": "code",
     "collapsed": false,
     "input": [
      "def explicit_classes1():\n",
      "    \"\"\"\n",
      "    Returns the expression x**2 + 4*x*y*z, built using SymPy classes explicitly.\n",
      "\n",
      "    >>> explicit_classes1()\n",
      "    x**2 + 4*x*y*z\n",
      "    \"\"\"\n",
      "    return Add(Pow(x, 2), Mul(4, x, y, z))"
     ],
     "language": "python",
     "metadata": {},
     "outputs": [],
     "prompt_number": 35
    },
    {
     "cell_type": "code",
     "collapsed": false,
     "input": [
      "explicit_classes1()"
     ],
     "language": "python",
     "metadata": {},
     "outputs": [
      {
       "latex": [
        "$$x^{2} + 4 x y z$$"
       ],
       "metadata": {},
       "output_type": "pyout",
       "png": "[encoded data removed]",
       "prompt_number": 36,
       "text": [
        " 2          \n",
        "x  + 4\u22c5x\u22c5y\u22c5z"
       ]
      }
     ],
     "prompt_number": 36
    },
    {
     "cell_type": "code",
     "collapsed": false,
     "input": [
      "def explicit_classes2():\n",
      "    \"\"\"\n",
      "    Returns the expression x**(x**y), built using SymPy classes explicitly.\n",
      "\n",
      "    >>> explicit_classes2()\n",
      "    x**(x**y)\n",
      "    \"\"\"\n",
      "    return Pow(x, Pow(x, y))"
     ],
     "language": "python",
     "metadata": {},
     "outputs": [],
     "prompt_number": 37
    },
    {
     "cell_type": "code",
     "collapsed": false,
     "input": [
      "explicit_classes2()"
     ],
     "language": "python",
     "metadata": {},
     "outputs": [
      {
       "latex": [
        "$$x^{x^{y}}$$"
       ],
       "metadata": {},
       "output_type": "pyout",
       "png": "[encoded data removed]",
       "prompt_number": 38,
       "text": [
        " \u239b y\u239e\n",
        " \u239dx \u23a0\n",
        "x    "
       ]
      }
     ],
     "prompt_number": 38
    },
    {
     "cell_type": "code",
     "collapsed": false,
     "input": [
      "def explicit_classes3():\n",
      "    \"\"\"\n",
      "    Returns the expression x - y/z, built using SymPy classes explicitly.\n",
      "\n",
      "    >>> explicit_classes3()\n",
      "    x - y/z\n",
      "    \"\"\"\n",
      "    return Add(x, Mul(-1, Mul(y, Pow(z, -1))))"
     ],
     "language": "python",
     "metadata": {},
     "outputs": [],
     "prompt_number": 39
    },
    {
     "cell_type": "code",
     "collapsed": false,
     "input": [
      "explicit_classes3()"
     ],
     "language": "python",
     "metadata": {},
     "outputs": [
      {
       "latex": [
        "$$x - \\frac{y}{z}$$"
       ],
       "metadata": {},
       "output_type": "pyout",
       "png": "[encoded data removed]",
       "prompt_number": 40,
       "text": [
        "    y\n",
        "x - \u2500\n",
        "    z"
       ]
      }
     ],
     "prompt_number": 40
    },
    {
     "cell_type": "heading",
     "level": 2,
     "metadata": {},
     "source": [
      "Nested args"
     ]
    },
    {
     "cell_type": "code",
     "collapsed": false,
     "input": [
      "expr = x**2 - y*(2**(x + 3) + z)"
     ],
     "language": "python",
     "metadata": {},
     "outputs": [],
     "prompt_number": 41
    },
    {
     "cell_type": "markdown",
     "metadata": {},
     "source": [
      "Use nested `.args` calls to get the 3 in expr."
     ]
    },
    {
     "cell_type": "code",
     "collapsed": false,
     "input": [
      "def nested_args():\n",
      "    \"\"\"\n",
      "    Get the 3 in the above expression.\n",
      "\n",
      "    >>> nested_args()\n",
      "    3\n",
      "    \"\"\"\n",
      "    expr = x**2 - y*(2**(x + 3) + z)\n",
      "    return expr.args[0].args[2].args[1].args[1].args[0]"
     ],
     "language": "python",
     "metadata": {},
     "outputs": [],
     "prompt_number": 42
    },
    {
     "cell_type": "code",
     "collapsed": false,
     "input": [
      "nested_args()"
     ],
     "language": "python",
     "metadata": {},
     "outputs": [
      {
       "latex": [
        "$$3$$"
       ],
       "metadata": {},
       "output_type": "pyout",
       "png": "[encoded data removed]",
       "prompt_number": 43,
       "text": [
        "3"
       ]
      }
     ],
     "prompt_number": 43
    },
    {
     "cell_type": "heading",
     "level": 2,
     "metadata": {},
     "source": [
      "Traversal "
     ]
    },
    {
     "cell_type": "markdown",
     "metadata": {},
     "source": [
      "Write a post-order traversal function that prints each node."
     ]
    },
    {
     "cell_type": "code",
     "collapsed": false,
     "input": [
      "def post(expr):\n",
      "    \"\"\"\n",
      "    Post-order traversal\n",
      "\n",
      "    >>> expr = x**2 - y*(2**(x + 3) + z)\n",
      "    >>> post(expr)\n",
      "    -1\n",
      "    y\n",
      "    2\n",
      "    3\n",
      "    x\n",
      "    x + 3\n",
      "    2**(x + 3)\n",
      "    z\n",
      "    2**(x + 3) + z\n",
      "    -y*(2**(x + 3) + z)\n",
      "    x\n",
      "    2\n",
      "    x**2\n",
      "    x**2 - y*(2**(x + 3) + z)\n",
      "    \"\"\"\n",
      "    for arg in expr.args:\n",
      "        post(arg)\n",
      "    display(expr)"
     ],
     "language": "python",
     "metadata": {},
     "outputs": [],
     "prompt_number": 44
    },
    {
     "cell_type": "code",
     "collapsed": false,
     "input": [
      "expr = x**2 - y*(2**(x + 3) + z)"
     ],
     "language": "python",
     "metadata": {},
     "outputs": [],
     "prompt_number": 45
    },
    {
     "cell_type": "code",
     "collapsed": false,
     "input": [
      "post(expr)"
     ],
     "language": "python",
     "metadata": {},
     "outputs": [
      {
       "latex": [
        "$$-1$$"
       ],
       "metadata": {},
       "output_type": "display_data",
       "png": "[encoded data removed]",
       "text": [
        "-1"
       ]
      },
      {
       "latex": [
        "$$y$$"
       ],
       "metadata": {},
       "output_type": "display_data",
       "png": "[encoded data removed]",
       "text": [
        "y"
       ]
      },
      {
       "latex": [
        "$$z$$"
       ],
       "metadata": {},
       "output_type": "display_data",
       "png": "[encoded data removed]",
       "text": [
        "z"
       ]
      },
      {
       "latex": [
        "$$2$$"
       ],
       "metadata": {},
       "output_type": "display_data",
       "png": "[encoded data removed]",
       "text": [
        "2"
       ]
      },
      {
       "latex": [
        "$$3$$"
       ],
       "metadata": {},
       "output_type": "display_data",
       "png": "[encoded data removed]",
       "text": [
        "3"
       ]
      },
      {
       "latex": [
        "$$x$$"
       ],
       "metadata": {},
       "output_type": "display_data",
       "png": "[encoded data removed]",
       "text": [
        "x"
       ]
      },
      {
       "latex": [
        "$$x + 3$$"
       ],
       "metadata": {},
       "output_type": "display_data",
       "png": "[encoded data removed]",
       "text": [
        "x + 3"
       ]
      },
      {
       "latex": [
        "$$2^{x + 3}$$"
       ],
       "metadata": {},
       "output_type": "display_data",
       "png": "[encoded data removed]",
       "text": [
        " x + 3\n",
        "2     "
       ]
      },
      {
       "latex": [
        "$$2^{x + 3} + z$$"
       ],
       "metadata": {},
       "output_type": "display_data",
       "png": "[encoded data removed]",
       "text": [
        " x + 3    \n",
        "2      + z"
       ]
      },
      {
       "latex": [
        "$$- y \\left(2^{x + 3} + z\\right)$$"
       ],
       "metadata": {},
       "output_type": "display_data",
       "png": "[encoded data removed]",
       "text": [
        "   \u239b x + 3    \u239e\n",
        "-y\u22c5\u239d2      + z\u23a0"
       ]
      },
      {
       "latex": [
        "$$x$$"
       ],
       "metadata": {},
       "output_type": "display_data",
       "png": "[encoded data removed]",
       "text": [
        "x"
       ]
      },
      {
       "latex": [
        "$$2$$"
       ],
       "metadata": {},
       "output_type": "display_data",
       "png": "[encoded data removed]",
       "text": [
        "2"
       ]
      },
      {
       "latex": [
        "$$x^{2}$$"
       ],
       "metadata": {},
       "output_type": "display_data",
       "png": "[encoded data removed]",
       "text": [
        " 2\n",
        "x "
       ]
      },
      {
       "latex": [
        "$$x^{2} - y \\left(2^{x + 3} + z\\right)$$"
       ],
       "metadata": {},
       "output_type": "display_data",
       "png": "[encoded data removed]",
       "text": [
        " 2     \u239b x + 3    \u239e\n",
        "x  - y\u22c5\u239d2      + z\u23a0"
       ]
      }
     ],
     "prompt_number": 46
    }
   ],
   "metadata": {}
  }
 ]
}