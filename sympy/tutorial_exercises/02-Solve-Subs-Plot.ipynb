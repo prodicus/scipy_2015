{
 "metadata": {
  "name": "",
  "signature": "sha256:daa6eac8936225c392c04e7bc0306c213e669afac73b2ee5b23df1a02748c721"
 },
 "nbformat": 3,
 "nbformat_minor": 0,
 "worksheets": [
  {
   "cells": [
    {
     "cell_type": "code",
     "collapsed": false,
     "input": [
      "from sympy import *\n",
      "init_printing()\n",
      "x, y, z = symbols('x,y,z')"
     ],
     "language": "python",
     "metadata": {},
     "outputs": [],
     "prompt_number": 4
    },
    {
     "cell_type": "markdown",
     "metadata": {},
     "source": [
      "## Solve\n",
      "\n",
      "Equation solving is both a common need also a common building block for more complicated symbolic algorithms.  \n",
      "\n",
      "Here we introduce the `solve` function"
     ]
    },
    {
     "cell_type": "code",
     "collapsed": false,
     "input": [
      "solve(x**2 - 4, x)"
     ],
     "language": "python",
     "metadata": {},
     "outputs": [
      {
       "latex": [
        "$$\\begin{bmatrix}-2, & 2\\end{bmatrix}$$"
       ],
       "metadata": {},
       "output_type": "pyout",
       "prompt_number": 7,
       "text": [
        "[-2, 2]"
       ]
      }
     ],
     "prompt_number": 7
    },
    {
     "cell_type": "markdown",
     "metadata": {},
     "source": [
      "Solve takes two arguments, an equation like $x^2 - 4$ and a variable on which we want to solve, like $x$.  \n",
      "\n",
      "Solve returns the values of the variable, $x$, for which the equation, $x^2 - 4$ equals 0."
     ]
    },
    {
     "cell_type": "markdown",
     "metadata": {},
     "source": [
      "### Exercise\n",
      "\n",
      "What would the following code produce?  Are you sure?"
     ]
    },
    {
     "cell_type": "code",
     "collapsed": false,
     "input": [
      "solve(x**2 - 9 == 0, x)"
     ],
     "language": "python",
     "metadata": {},
     "outputs": []
    },
    {
     "cell_type": "markdown",
     "metadata": {},
     "source": [
      "## Symbolic use of `solve`\n",
      "\n",
      "Results of `solve` don't need to be numeric, like `[-2, 2]`.  We can use solve to perform algebraic manipulations.  For example if we know a simple equation for the area of a square\n",
      "\n",
      "    area = height * width\n",
      "    \n",
      "we can solve this equation for any of the variables.  For example how would we solve this system for the `height`, given the `area` and `width`?"
     ]
    },
    {
     "cell_type": "code",
     "collapsed": false,
     "input": [
      "height, width, area = symbols('height,width,area')\n",
      "solve(area - height*width, height)"
     ],
     "language": "python",
     "metadata": {},
     "outputs": [
      {
       "latex": [
        "$$\\begin{bmatrix}\\frac{area}{width}\\end{bmatrix}$$"
       ],
       "metadata": {},
       "output_type": "pyout",
       "prompt_number": 10,
       "text": [
        "\u23a1 area\u23a4\n",
        "\u23a2\u2500\u2500\u2500\u2500\u2500\u23a5\n",
        "\u23a3width\u23a6"
       ]
      }
     ],
     "prompt_number": 10
    },
    {
     "cell_type": "markdown",
     "metadata": {},
     "source": [
      "Note that we would have liked to have written\n",
      "\n",
      "    solve(area == height * width, height)\n",
      "    \n",
      "But the `==` gotcha bites us.  Instead we remember that `solve` expects an expression that is equal to zero, so we rewrite the equation\n",
      "\n",
      "    area = height * width\n",
      "    \n",
      "into the equation\n",
      "\n",
      "    0 = height * width - area\n",
      "    \n",
      "and that is what we give to solve."
     ]
    },
    {
     "cell_type": "markdown",
     "metadata": {},
     "source": [
      "### Exercise\n",
      "\n",
      "Compute the radius of a sphere, given the volume.  Reminder, the volume of a sphere of radius `r` is given by\n",
      "\n",
      "$$ V = \\frac{4}{3}\\pi r^3 $$"
     ]
    },
    {
     "cell_type": "code",
     "collapsed": false,
     "input": [
      "# Solve for the radius of a sphere, given the volume\n",
      "\n"
     ],
     "language": "python",
     "metadata": {},
     "outputs": [],
     "prompt_number": 11
    },
    {
     "cell_type": "markdown",
     "metadata": {},
     "source": [
      "You will probably get several solutions, this is fine.  The first one is probably the one that you want."
     ]
    },
    {
     "cell_type": "markdown",
     "metadata": {},
     "source": [
      "## Substitution\n",
      "\n",
      "We often want to substitute in one expression for another.  For this we use the subs method"
     ]
    },
    {
     "cell_type": "code",
     "collapsed": false,
     "input": [
      "x**2"
     ],
     "language": "python",
     "metadata": {},
     "outputs": [
      {
       "latex": [
        "$$x^{2}$$"
       ],
       "metadata": {},
       "output_type": "pyout",
       "png": "[encoded data removed]",
       "prompt_number": 14,
       "text": [
        " 2\n",
        "x "
       ]
      }
     ],
     "prompt_number": 14
    },
    {
     "cell_type": "code",
     "collapsed": false,
     "input": [
      "# Replace x with y\n",
      "(x**2).subs({x: y})"
     ],
     "language": "python",
     "metadata": {},
     "outputs": [
      {
       "latex": [
        "$$y^{2}$$"
       ],
       "metadata": {},
       "output_type": "pyout",
       "png": "[encoded data removed]",
       "prompt_number": 13,
       "text": [
        " 2\n",
        "y "
       ]
      }
     ],
     "prompt_number": 13
    },
    {
     "cell_type": "markdown",
     "metadata": {},
     "source": [
      "### Exercise\n",
      "\n",
      "Subsitute $x$ for $sin(x)$ in the equation $x^2 + 2\\cdot x + 1$"
     ]
    },
    {
     "cell_type": "code",
     "collapsed": false,
     "input": [
      "# Replace x with sin(x)\n",
      "\n"
     ],
     "language": "python",
     "metadata": {},
     "outputs": [],
     "prompt_number": 21
    },
    {
     "cell_type": "markdown",
     "metadata": {},
     "source": [
      "## Subs + Solve\n",
      "\n",
      "We can use subs and solve together to plug the solution of one equation into another"
     ]
    },
    {
     "cell_type": "code",
     "collapsed": false,
     "input": [
      "# Solve for the height of a rectangle given area and width\n",
      "\n",
      "soln = solve(area - height*width, height)[0]\n",
      "soln"
     ],
     "language": "python",
     "metadata": {},
     "outputs": [
      {
       "latex": [
        "$$\\frac{area}{width}$$"
       ],
       "metadata": {},
       "output_type": "pyout",
       "png": "[encoded data removed]",
       "prompt_number": 25,
       "text": [
        " area\n",
        "\u2500\u2500\u2500\u2500\u2500\n",
        "width"
       ]
      }
     ],
     "prompt_number": 25
    },
    {
     "cell_type": "code",
     "collapsed": false,
     "input": [
      "# Define perimeter of rectangle in terms of height and width\n",
      "\n",
      "perimeter = 2*(height + width)"
     ],
     "language": "python",
     "metadata": {},
     "outputs": [],
     "prompt_number": 26
    },
    {
     "cell_type": "code",
     "collapsed": false,
     "input": [
      "# Substitute the solution for height into the expression for perimeter\n",
      "\n",
      "perimeter.subs({height: soln})"
     ],
     "language": "python",
     "metadata": {},
     "outputs": [
      {
       "latex": [
        "$$\\frac{2 area}{width} + 2 width$$"
       ],
       "metadata": {},
       "output_type": "pyout",
       "png": "[encoded data removed]",
       "prompt_number": 27,
       "text": [
        "2\u22c5area          \n",
        "\u2500\u2500\u2500\u2500\u2500\u2500 + 2\u22c5width\n",
        "width           "
       ]
      }
     ],
     "prompt_number": 27
    },
    {
     "cell_type": "markdown",
     "metadata": {},
     "source": [
      "### Exercise\n",
      "\n",
      "In the last section you solved for the radius of a sphere given its volume"
     ]
    },
    {
     "cell_type": "code",
     "collapsed": false,
     "input": [
      "V, r = symbols('V,r', real=True)\n",
      "4*pi/3 * r**3"
     ],
     "language": "python",
     "metadata": {},
     "outputs": [
      {
       "latex": [
        "$$\\frac{4 \\pi}{3} r^{3}$$"
       ],
       "metadata": {},
       "output_type": "pyout",
       "png": "[encoded data removed]",
       "prompt_number": 34,
       "text": [
        "     3\n",
        "4\u22c5\u03c0\u22c5r \n",
        "\u2500\u2500\u2500\u2500\u2500\u2500\n",
        "  3   "
       ]
      }
     ],
     "prompt_number": 34
    },
    {
     "cell_type": "code",
     "collapsed": false,
     "input": [
      "solve(V - 4*pi/3 * r**3, r)[0]"
     ],
     "language": "python",
     "metadata": {},
     "outputs": [
      {
       "latex": [
        "$$\\frac{\\sqrt[3]{6} \\sqrt[3]{V}}{2 \\sqrt[3]{\\pi}}$$"
       ],
       "metadata": {},
       "output_type": "pyout",
       "png": "[encoded data removed]",
       "prompt_number": 36,
       "text": [
        "3 ___ 3 ___\n",
        "\u2572\u2571 6 \u22c5\u2572\u2571 V \n",
        "\u2500\u2500\u2500\u2500\u2500\u2500\u2500\u2500\u2500\u2500\u2500\n",
        "    3 ___  \n",
        "  2\u22c5\u2572\u2571 \u03c0   "
       ]
      }
     ],
     "prompt_number": 36
    },
    {
     "cell_type": "markdown",
     "metadata": {},
     "source": [
      "Now lets compute the surface area of a sphere in terms of the volume.  Recall that the surface area of a sphere is given by\n",
      "\n",
      "$$ 4 \\pi r^2 $$"
     ]
    },
    {
     "cell_type": "code",
     "collapsed": false,
     "input": [
      "(?).subs(?)"
     ],
     "language": "python",
     "metadata": {},
     "outputs": [
      {
       "ename": "SyntaxError",
       "evalue": "invalid syntax (<ipython-input-49-df38c236f23a>, line 1)",
       "output_type": "pyerr",
       "traceback": [
        "\u001b[1;36m  File \u001b[1;32m\"<ipython-input-49-df38c236f23a>\"\u001b[1;36m, line \u001b[1;32m1\u001b[0m\n\u001b[1;33m    (?).subs(?)\u001b[0m\n\u001b[1;37m     ^\u001b[0m\n\u001b[1;31mSyntaxError\u001b[0m\u001b[1;31m:\u001b[0m invalid syntax\n"
       ]
      }
     ],
     "prompt_number": 49
    },
    {
     "cell_type": "markdown",
     "metadata": {},
     "source": [
      "Does the expression look right?  How would you expect the surface area to scale with respect to the volume?  What is the exponent on $V$?"
     ]
    },
    {
     "cell_type": "markdown",
     "metadata": {},
     "source": [
      "## Plotting\n",
      "\n",
      "SymPy can plot expressions easily using the `plot` function.  By default this links against matplotlib."
     ]
    },
    {
     "cell_type": "code",
     "collapsed": true,
     "input": [
      "%matplotlib inline"
     ],
     "language": "python",
     "metadata": {},
     "outputs": [],
     "prompt_number": 41
    },
    {
     "cell_type": "code",
     "collapsed": false,
     "input": [
      "plot(x**2)"
     ],
     "language": "python",
     "metadata": {},
     "outputs": [
      {
       "metadata": {},
       "output_type": "display_data",
       "png": "[encoded data removed]",
       "text": [
        "<matplotlib.figure.Figure at 0x7f58e010c190>"
       ]
      },
      {
       "metadata": {},
       "output_type": "pyout",
       "prompt_number": 42,
       "text": [
        "<sympy.plotting.plot.Plot at 0x7f58e1de6710>"
       ]
      }
     ],
     "prompt_number": 42
    },
    {
     "cell_type": "markdown",
     "metadata": {},
     "source": [
      "### Exercise\n",
      "\n",
      "In the last exercise you derived a relationship between the volume of a sphere and the surface area.  Plot this relationship using `plot`."
     ]
    },
    {
     "cell_type": "code",
     "collapsed": false,
     "input": [
      "plot(?)"
     ],
     "language": "python",
     "metadata": {},
     "outputs": []
    },
    {
     "cell_type": "markdown",
     "metadata": {},
     "source": [
      "## Low dependencies\n",
      "\n",
      "You may know that SymPy tries to be a very low-dependency project.  Our user base is very broad.  Some entertaining aspects result.  For example, `textplot`."
     ]
    },
    {
     "cell_type": "code",
     "collapsed": false,
     "input": [
      "textplot(x**2, -3, 3)"
     ],
     "language": "python",
     "metadata": {},
     "outputs": [
      {
       "output_type": "stream",
       "stream": "stdout",
       "text": [
        "      9 |                                                        \n",
        "        |  .                                                    /\n",
        "        |   \\                                                  / \n",
        "        |    \\                                                /  \n",
        "        |     \\                                              /   \n",
        "        |      \\                                            .    \n",
        "        |       \\                                                \n",
        "        |        \\                                        ..     \n",
        "4.50149 | --------\\--------------------------------------/-------\n",
        "        |          \\                                    /        \n",
        "        |           \\                                  /         \n",
        "        |            \\                                /          \n",
        "        |             ..                            ..           \n",
        "        |               \\                          /             \n",
        "        |                ..                      ..              \n",
        "        |                  ..                  ..                \n",
        "        |                    ..              ..                  \n",
        "0.00297 |                      ..............                    \n",
        "          -3                     0                          3\n"
       ]
      }
     ],
     "prompt_number": 50
    },
    {
     "cell_type": "markdown",
     "metadata": {},
     "source": [
      "### Exercise\n",
      "\n",
      "Play with `textplot` and enjoy :)"
     ]
    }
   ],
   "metadata": {}
  }
 ]
}