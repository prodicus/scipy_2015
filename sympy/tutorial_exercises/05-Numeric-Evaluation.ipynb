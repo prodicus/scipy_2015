{
 "metadata": {
  "name": "",
  "signature": "sha256:c647e541e0a6733fe4204f7380440e35897b4926c6ef0ba602d6bbf456f4aa1f"
 },
 "nbformat": 3,
 "nbformat_minor": 0,
 "worksheets": [
  {
   "cells": [
    {
     "cell_type": "code",
     "collapsed": false,
     "input": [
      "from sympy import *\n",
      "init_printing(use_latex='mathjax')\n",
      "x, y, z = symbols('x,y,z')\n",
      "n, m = symbols('n,m', integer=True)"
     ],
     "language": "python",
     "metadata": {},
     "outputs": [],
     "prompt_number": 1
    },
    {
     "cell_type": "code",
     "collapsed": false,
     "input": [
      "%matplotlib inline"
     ],
     "language": "python",
     "metadata": {},
     "outputs": [],
     "prompt_number": 2
    },
    {
     "cell_type": "markdown",
     "metadata": {},
     "source": [
      "# Numeric Evaluation\n",
      "\n",
      "In this section we'll learn how to use our symbolic equations to drive numeric computations"
     ]
    },
    {
     "cell_type": "markdown",
     "metadata": {},
     "source": [
      "## `.subs` and `.evalf`\n",
      "\n",
      "The simplest (and slowest) ways to evaluate an expression numerically is with the `.subs` and `.evalf` methods "
     ]
    },
    {
     "cell_type": "code",
     "collapsed": false,
     "input": [
      "sin(x)"
     ],
     "language": "python",
     "metadata": {},
     "outputs": [
      {
       "latex": [
        "$$\\sin{\\left (x \\right )}$$"
       ],
       "metadata": {},
       "output_type": "pyout",
       "prompt_number": 3,
       "text": [
        "sin(x)"
       ]
      }
     ],
     "prompt_number": 3
    },
    {
     "cell_type": "code",
     "collapsed": false,
     "input": [
      "sin(x).subs({x: 0})"
     ],
     "language": "python",
     "metadata": {},
     "outputs": [
      {
       "latex": [
        "$$0$$"
       ],
       "metadata": {},
       "output_type": "pyout",
       "prompt_number": 4,
       "text": [
        "0"
       ]
      }
     ],
     "prompt_number": 4
    },
    {
     "cell_type": "code",
     "collapsed": false,
     "input": [
      "acos(x).subs({x: -1})"
     ],
     "language": "python",
     "metadata": {},
     "outputs": [
      {
       "latex": [
        "$$\\pi$$"
       ],
       "metadata": {},
       "output_type": "pyout",
       "prompt_number": 5,
       "text": [
        "\u03c0"
       ]
      }
     ],
     "prompt_number": 5
    },
    {
     "cell_type": "code",
     "collapsed": false,
     "input": [
      "acos(x).subs({x: -1}).evalf()"
     ],
     "language": "python",
     "metadata": {},
     "outputs": [
      {
       "latex": [
        "$$3.14159265358979$$"
       ],
       "metadata": {},
       "output_type": "pyout",
       "prompt_number": 6,
       "text": [
        "3.14159265358979"
       ]
      }
     ],
     "prompt_number": 6
    },
    {
     "cell_type": "code",
     "collapsed": false,
     "input": [
      "acos(x).subs({x: -1}).evalf(n=100)"
     ],
     "language": "python",
     "metadata": {},
     "outputs": [
      {
       "latex": [
        "$$3.141592653589793238462643383279502884197169399375105820974944592307816406286208998628034825342117068$$"
       ],
       "metadata": {},
       "output_type": "pyout",
       "prompt_number": 7,
       "text": [
        "3.1415926535897932384626433832795028841971693993751058209749445923078164062862\n",
        "08998628034825342117068"
       ]
      }
     ],
     "prompt_number": 7
    },
    {
     "cell_type": "markdown",
     "metadata": {},
     "source": [
      "### Exercise\n",
      "\n",
      "In a previous section we computed the following symbolic integral\n",
      "\n",
      "$$ \\int_y^z x^n dx $$"
     ]
    },
    {
     "cell_type": "code",
     "collapsed": false,
     "input": [
      "result = integrate(x**n, (x, y, z))\n",
      "result"
     ],
     "language": "python",
     "metadata": {},
     "outputs": [
      {
       "latex": [
        "$$\\begin{cases} - \\log{\\left (y \\right )} + \\log{\\left (z \\right )} & \\text{for}\\: n = -1 \\\\- \\frac{y^{n + 1}}{n + 1} + \\frac{z^{n + 1}}{n + 1} & \\text{otherwise} \\end{cases}$$"
       ],
       "metadata": {},
       "output_type": "pyout",
       "prompt_number": 8,
       "text": [
        "\u23a7-log(y) + log(z)   for n = -1\n",
        "\u23aa                             \n",
        "\u23aa   n + 1    n + 1            \n",
        "\u23a8  y        z                 \n",
        "\u23aa- \u2500\u2500\u2500\u2500\u2500\u2500 + \u2500\u2500\u2500\u2500\u2500\u2500  otherwise \n",
        "\u23aa  n + 1    n + 1             \n",
        "\u23a9                             "
       ]
      }
     ],
     "prompt_number": 8
    },
    {
     "cell_type": "markdown",
     "metadata": {},
     "source": [
      "Use `.subs` and a dictionary with keys `n, y, z` to evaluate this result when \n",
      "\n",
      "    n == 2\n",
      "    y == 0\n",
      "    z == 3"
     ]
    },
    {
     "cell_type": "code",
     "collapsed": false,
     "input": [
      "# Evaluate the resulting integral on the above values\n",
      "\n"
     ],
     "language": "python",
     "metadata": {},
     "outputs": [],
     "prompt_number": 9
    },
    {
     "cell_type": "markdown",
     "metadata": {},
     "source": [
      "### Exercise\n",
      "\n",
      "This integral takes on a special form when $n = -1$.  Use subs to find the expression when \n",
      "\n",
      "    n == -1\n",
      "    y == 5\n",
      "    z == 100\n",
      "    \n",
      "Then use `.evalf` to evaluate this subs-ed expression as a float."
     ]
    },
    {
     "cell_type": "code",
     "collapsed": false,
     "input": [
      "# Evaluate the resulting integral for the values {n: -1, y: 5, z: 100}\n",
      "# Then use evalf to get a numeric result\n",
      "\n"
     ],
     "language": "python",
     "metadata": {},
     "outputs": [],
     "prompt_number": 10
    },
    {
     "cell_type": "markdown",
     "metadata": {},
     "source": [
      "## `lambdify`\n",
      "\n",
      "The `.subs` and `.evalf` methods are great for when you want to evaluate an expression at a single point.  When you want to evaluate your expression on lots of points they quickly become slow. \n",
      "\n",
      "To resolve this problem SymPy can rewrite its expressions as normal Python functions using the `math` library, vectorized computations using the NumPy library, C or Fortran Code using code printers, or even more sophisticated systems.\n",
      "\n",
      "We'll talk about some of the more advanced topics later.  For now, lambdify..."
     ]
    },
    {
     "cell_type": "code",
     "collapsed": false,
     "input": [
      "# function = lambdify(input, output)\n",
      "\n",
      "f = lambdify(x, x**2)\n",
      "f(3)"
     ],
     "language": "python",
     "metadata": {},
     "outputs": [
      {
       "latex": [
        "$$9$$"
       ],
       "metadata": {},
       "output_type": "pyout",
       "prompt_number": 11,
       "text": [
        "9"
       ]
      }
     ],
     "prompt_number": 11
    },
    {
     "cell_type": "code",
     "collapsed": false,
     "input": [
      "import numpy as np\n",
      "f = lambdify(x, x**2, 'numpy')  # Use numpy backend\n",
      "data = np.array([1, 2, 3, 4, 5])\n",
      "f(data)"
     ],
     "language": "python",
     "metadata": {},
     "outputs": [
      {
       "metadata": {},
       "output_type": "pyout",
       "prompt_number": 12,
       "text": [
        "array([ 1,  4,  9, 16, 25])"
       ]
      }
     ],
     "prompt_number": 12
    },
    {
     "cell_type": "markdown",
     "metadata": {},
     "source": [
      "### Exercise\n",
      "\n",
      "Here is a radial wave function for the Carbon atom at $n=3$, $l=1$"
     ]
    },
    {
     "cell_type": "code",
     "collapsed": false,
     "input": [
      "from sympy.physics.hydrogen import R_nl\n",
      "n = 3\n",
      "l = 1\n",
      "r = 6 # Carbon\n",
      "expr = R_nl(n, l, x, r)\n",
      "expr"
     ],
     "language": "python",
     "metadata": {},
     "outputs": [
      {
       "latex": [
        "$$\\frac{8 x}{3} \\left(- 4 x + 4\\right) e^{- 2 x}$$"
       ],
       "metadata": {},
       "output_type": "pyout",
       "prompt_number": 13,
       "text": [
        "                -2\u22c5x\n",
        "8\u22c5x\u22c5(-4\u22c5x + 4)\u22c5\u212f    \n",
        "\u2500\u2500\u2500\u2500\u2500\u2500\u2500\u2500\u2500\u2500\u2500\u2500\u2500\u2500\u2500\u2500\u2500\u2500\u2500\u2500\n",
        "         3          "
       ]
      }
     ],
     "prompt_number": 13
    },
    {
     "cell_type": "markdown",
     "metadata": {},
     "source": [
      "Create a function, `f`, that evaluate this expression using the `'numpy'` backend"
     ]
    },
    {
     "cell_type": "code",
     "collapsed": false,
     "input": [
      "# Create Numpy function mapping x to expr with the numpy backend\n",
      "\n"
     ],
     "language": "python",
     "metadata": {},
     "outputs": [],
     "prompt_number": 14
    },
    {
     "cell_type": "markdown",
     "metadata": {},
     "source": [
      "We can plot your function from $x \\in [0, 5]$ with the following numpy/matplotlib code"
     ]
    },
    {
     "cell_type": "code",
     "collapsed": false,
     "input": [
      "from matplotlib.pyplot import plot\n",
      "nx = np.linspace(0, 5, 1000)\n",
      "plot(nx, f(nx))"
     ],
     "language": "python",
     "metadata": {},
     "outputs": [],
     "prompt_number": 73
    },
    {
     "cell_type": "markdown",
     "metadata": {},
     "source": [
      "### Exercise\n",
      "\n",
      "Create a numpy function that computes the derivative of our expression.  Plot the result alongside the original."
     ]
    },
    {
     "cell_type": "code",
     "collapsed": false,
     "input": [
      "# Compute derivative of expr with respect to x\n",
      "\n"
     ],
     "language": "python",
     "metadata": {},
     "outputs": [],
     "prompt_number": 15
    },
    {
     "cell_type": "code",
     "collapsed": false,
     "input": [
      "# Create new fprime function using lambdify\n",
      "\n"
     ],
     "language": "python",
     "metadata": {},
     "outputs": [],
     "prompt_number": 16
    },
    {
     "cell_type": "code",
     "collapsed": false,
     "input": [
      "# Plot results alongside f(nx)\n",
      "\n"
     ],
     "language": "python",
     "metadata": {},
     "outputs": [],
     "prompt_number": 17
    }
   ],
   "metadata": {}
  }
 ]
}