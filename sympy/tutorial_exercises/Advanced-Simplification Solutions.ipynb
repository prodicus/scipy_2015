{
 "metadata": {
  "name": "",
  "signature": "sha256:346ed1d88073bd614dfe4f9a62f9352b0e4f11cd6775964c5304a5ed6d7b8f98"
 },
 "nbformat": 3,
 "nbformat_minor": 0,
 "worksheets": [
  {
   "cells": [
    {
     "cell_type": "heading",
     "level": 1,
     "metadata": {},
     "source": [
      "Simplification Solutions"
     ]
    },
    {
     "cell_type": "code",
     "collapsed": false,
     "input": [
      "from sympy import *\n",
      "x, y, z = symbols('x y z')\n",
      "init_printing()"
     ],
     "language": "python",
     "metadata": {},
     "outputs": [],
     "prompt_number": 1
    },
    {
     "cell_type": "markdown",
     "metadata": {},
     "source": [
      "For each exercise, fill in the function according to its docstring. "
     ]
    },
    {
     "cell_type": "heading",
     "level": 2,
     "metadata": {},
     "source": [
      "Polynomial/Rational Function Simplification"
     ]
    },
    {
     "cell_type": "markdown",
     "metadata": {},
     "source": [
      "In each exercise, apply specific simplification functions to get the desired result."
     ]
    },
    {
     "cell_type": "code",
     "collapsed": false,
     "input": [
      "def polysimp1(expr):\n",
      "    \"\"\"\n",
      "    >>> polysimp1(cos(x)*sin(x) + cos(x))\n",
      "    (sin(x) + 1)*cos(x)\n",
      "    >>> polysimp1(cos(x)*sin(x) + cos(x) + 1)\n",
      "    (sin(x) + 1)*cos(x) + 1\n",
      "    \"\"\"\n",
      "    return collect(expr, cos(x))"
     ],
     "language": "python",
     "metadata": {},
     "outputs": [],
     "prompt_number": 2
    },
    {
     "cell_type": "code",
     "collapsed": false,
     "input": [
      "polysimp1(cos(x)*sin(x) + cos(x))"
     ],
     "language": "python",
     "metadata": {},
     "outputs": [
      {
       "latex": [
        "$$\\left(\\sin{\\left (x \\right )} + 1\\right) \\cos{\\left (x \\right )}$$"
       ],
       "metadata": {},
       "output_type": "pyout",
       "png": "[encoded data removed]",
       "prompt_number": 3,
       "text": [
        "(sin(x) + 1)\u22c5cos(x)"
       ]
      }
     ],
     "prompt_number": 3
    },
    {
     "cell_type": "code",
     "collapsed": false,
     "input": [
      "polysimp1(cos(x)*sin(x) + cos(x) + 1)"
     ],
     "language": "python",
     "metadata": {},
     "outputs": [
      {
       "latex": [
        "$$\\left(\\sin{\\left (x \\right )} + 1\\right) \\cos{\\left (x \\right )} + 1$$"
       ],
       "metadata": {},
       "output_type": "pyout",
       "png": "[encoded data removed]",
       "prompt_number": 4,
       "text": [
        "(sin(x) + 1)\u22c5cos(x) + 1"
       ]
      }
     ],
     "prompt_number": 4
    },
    {
     "cell_type": "code",
     "collapsed": false,
     "input": [
      "def polysimp2(expr):\n",
      "    \"\"\"\n",
      "    >>> polysimp2((2*x + 1)/(x**2 + x))\n",
      "    1/(x + 1) + 1/x\n",
      "    >>> polysimp2((x**2 + 3*x + 1)/(x**3 + 2*x**2 + x))\n",
      "    1/(x**2 + 2*x + 1) + 1/x\n",
      "    \"\"\"\n",
      "    return expand(apart(expr))"
     ],
     "language": "python",
     "metadata": {},
     "outputs": [],
     "prompt_number": 5
    },
    {
     "cell_type": "code",
     "collapsed": false,
     "input": [
      "polysimp2((2*x + 1)/(x**2 + x))"
     ],
     "language": "python",
     "metadata": {},
     "outputs": [
      {
       "latex": [
        "$$\\frac{1}{x + 1} + \\frac{1}{x}$$"
       ],
       "metadata": {},
       "output_type": "pyout",
       "png": "[encoded data removed]",
       "prompt_number": 6,
       "text": [
        "  1     1\n",
        "\u2500\u2500\u2500\u2500\u2500 + \u2500\n",
        "x + 1   x"
       ]
      }
     ],
     "prompt_number": 6
    },
    {
     "cell_type": "code",
     "collapsed": false,
     "input": [
      "polysimp2((x**2 + 3*x + 1)/(x**3 + 2*x**2 + x))"
     ],
     "language": "python",
     "metadata": {},
     "outputs": [
      {
       "latex": [
        "$$\\frac{1}{x^{2} + 2 x + 1} + \\frac{1}{x}$$"
       ],
       "metadata": {},
       "output_type": "pyout",
       "png": "[encoded data removed]",
       "prompt_number": 7,
       "text": [
        "     1         1\n",
        "\u2500\u2500\u2500\u2500\u2500\u2500\u2500\u2500\u2500\u2500\u2500\u2500 + \u2500\n",
        " 2             x\n",
        "x  + 2\u22c5x + 1    "
       ]
      }
     ],
     "prompt_number": 7
    },
    {
     "cell_type": "heading",
     "level": 2,
     "metadata": {},
     "source": [
      "Powers"
     ]
    },
    {
     "cell_type": "markdown",
     "metadata": {},
     "source": [
      "In each exercise, apply specific simplification functions to get the desired result. "
     ]
    },
    {
     "cell_type": "code",
     "collapsed": false,
     "input": [
      "def powersimp1(expr):\n",
      "    \"\"\"\n",
      "    >>> powersimp1(exp(x)*(exp(y) + 1))\n",
      "    exp(x) + exp(x + y)\n",
      "    \"\"\"\n",
      "    return powsimp(expand(expr))"
     ],
     "language": "python",
     "metadata": {},
     "outputs": [],
     "prompt_number": 8
    },
    {
     "cell_type": "code",
     "collapsed": false,
     "input": [
      "powersimp1(exp(x)*(exp(y) + 1))"
     ],
     "language": "python",
     "metadata": {},
     "outputs": [
      {
       "latex": [
        "$$e^{x} + e^{x + y}$$"
       ],
       "metadata": {},
       "output_type": "pyout",
       "png": "[encoded data removed]",
       "prompt_number": 9,
       "text": [
        " x    x + y\n",
        "\u212f  + \u212f     "
       ]
      }
     ],
     "prompt_number": 9
    },
    {
     "cell_type": "code",
     "collapsed": false,
     "input": [
      "def powersimp2(expr):\n",
      "    \"\"\"\n",
      "    >>> powersimp2(2**x*x**x)\n",
      "    (2*x)**x\n",
      "    >>> powersimp2(x**x*x**x)\n",
      "    (x**2)**x\n",
      "    \"\"\"\n",
      "    return powsimp(expr, force=True)"
     ],
     "language": "python",
     "metadata": {},
     "outputs": [],
     "prompt_number": 10
    },
    {
     "cell_type": "code",
     "collapsed": false,
     "input": [
      "powersimp2(2**x*x**x)"
     ],
     "language": "python",
     "metadata": {},
     "outputs": [
      {
       "latex": [
        "$$\\left(2 x\\right)^{x}$$"
       ],
       "metadata": {},
       "output_type": "pyout",
       "png": "[encoded data removed]",
       "prompt_number": 11,
       "text": [
        "     x\n",
        "(2\u22c5x) "
       ]
      }
     ],
     "prompt_number": 11
    },
    {
     "cell_type": "code",
     "collapsed": false,
     "input": [
      "powersimp2(x**x*x**x)"
     ],
     "language": "python",
     "metadata": {},
     "outputs": [
      {
       "latex": [
        "$$\\left(x^{2}\\right)^{x}$$"
       ],
       "metadata": {},
       "output_type": "pyout",
       "png": "[encoded data removed]",
       "prompt_number": 12,
       "text": [
        "    x\n",
        "\u239b 2\u239e \n",
        "\u239dx \u23a0 "
       ]
      }
     ],
     "prompt_number": 12
    },
    {
     "cell_type": "code",
     "collapsed": false,
     "input": [
      "def powersimp3(expr):\n",
      "    \"\"\"\n",
      "    >>> a, b, c = symbols('a b c')\n",
      "    >>> powersimp3((a**b)**c)\n",
      "    a**(b*c)\n",
      "    >>> powersimp3((a**b)**(c + 1))\n",
      "    a**(b*c + b)\n",
      "    \"\"\"\n",
      "    return powdenest(expand_power_exp(expr), force=True)"
     ],
     "language": "python",
     "metadata": {},
     "outputs": [],
     "prompt_number": 13
    },
    {
     "cell_type": "code",
     "collapsed": false,
     "input": [
      "a, b, c = symbols('a b c')"
     ],
     "language": "python",
     "metadata": {},
     "outputs": [],
     "prompt_number": 14
    },
    {
     "cell_type": "code",
     "collapsed": false,
     "input": [
      "powersimp3((a**b)**c)"
     ],
     "language": "python",
     "metadata": {},
     "outputs": [
      {
       "latex": [
        "$$a^{b c}$$"
       ],
       "metadata": {},
       "output_type": "pyout",
       "png": "[encoded data removed]",
       "prompt_number": 15,
       "text": [
        " b\u22c5c\n",
        "a   "
       ]
      }
     ],
     "prompt_number": 15
    },
    {
     "cell_type": "code",
     "collapsed": false,
     "input": [
      "powersimp3((a**b)**(c + 1))"
     ],
     "language": "python",
     "metadata": {},
     "outputs": [
      {
       "latex": [
        "$$a^{b c + b}$$"
       ],
       "metadata": {},
       "output_type": "pyout",
       "png": "[encoded data removed]",
       "prompt_number": 16,
       "text": [
        " b\u22c5c + b\n",
        "a       "
       ]
      }
     ],
     "prompt_number": 16
    },
    {
     "cell_type": "heading",
     "level": 2,
     "metadata": {},
     "source": [
      "Logs"
     ]
    },
    {
     "cell_type": "code",
     "collapsed": false,
     "input": [
      "def logsimp1(expr):\n",
      "    \"\"\"\n",
      "    >>> a, b = symbols('a b', positive=True)\n",
      "    >>> logsimp1(log(x**y*a**b))\n",
      "    y*log(x) + log(a**b)\n",
      "    >>> logsimp1(log(x*y*a*b))\n",
      "    log(x) + log(y) + log(a*b)\n",
      "    \"\"\"\n",
      "    return logcombine(expand_log(expr, force=True))"
     ],
     "language": "python",
     "metadata": {},
     "outputs": [],
     "prompt_number": 17
    },
    {
     "cell_type": "code",
     "collapsed": false,
     "input": [
      "a, b = symbols('a b', positive=True)"
     ],
     "language": "python",
     "metadata": {},
     "outputs": [],
     "prompt_number": 18
    },
    {
     "cell_type": "code",
     "collapsed": false,
     "input": [
      "logsimp1(log(x**y*a**b))"
     ],
     "language": "python",
     "metadata": {},
     "outputs": [
      {
       "latex": [
        "$$y \\log{\\left (x \\right )} + \\log{\\left (a^{b} \\right )}$$"
       ],
       "metadata": {},
       "output_type": "pyout",
       "png": "[encoded data removed]",
       "prompt_number": 19,
       "text": [
        "              \u239b b\u239e\n",
        "y\u22c5log(x) + log\u239da \u23a0"
       ]
      }
     ],
     "prompt_number": 19
    },
    {
     "cell_type": "code",
     "collapsed": false,
     "input": [
      "logsimp1(log(x*y*a*b))"
     ],
     "language": "python",
     "metadata": {},
     "outputs": [
      {
       "latex": [
        "$$\\log{\\left (x \\right )} + \\log{\\left (y \\right )} + \\log{\\left (a b \\right )}$$"
       ],
       "metadata": {},
       "output_type": "pyout",
       "png": "[encoded data removed]",
       "prompt_number": 20,
       "text": [
        "log(x) + log(y) + log(a\u22c5b)"
       ]
      }
     ],
     "prompt_number": 20
    },
    {
     "cell_type": "heading",
     "level": 2,
     "metadata": {},
     "source": [
      "Miscellaneous  "
     ]
    },
    {
     "cell_type": "code",
     "collapsed": false,
     "input": [
      "def miscsimp1(expr):\n",
      "    \"\"\"\n",
      "    >>> miscsimp1(sin(x + y))\n",
      "    2*(-tan(x/2)**2 + 1)*tan(y/2)/((tan(x/2)**2 + 1)*(tan(y/2)**2 + 1)) + 2*(-tan(y/2)**2 + 1)*tan(x/2)/((tan(x/2)**2 + 1)*(tan(y/2)**2 + 1))\n",
      "    \"\"\"\n",
      "    return expand_trig(expr).rewrite(tan)"
     ],
     "language": "python",
     "metadata": {},
     "outputs": [],
     "prompt_number": 21
    },
    {
     "cell_type": "code",
     "collapsed": false,
     "input": [
      "miscsimp1(sin(x + y))"
     ],
     "language": "python",
     "metadata": {},
     "outputs": [
      {
       "latex": [
        "$$\\frac{2 \\left(- \\tan^{2}{\\left (\\frac{x}{2} \\right )} + 1\\right) \\tan{\\left (\\frac{y}{2} \\right )}}{\\left(\\tan^{2}{\\left (\\frac{x}{2} \\right )} + 1\\right) \\left(\\tan^{2}{\\left (\\frac{y}{2} \\right )} + 1\\right)} + \\frac{2 \\left(- \\tan^{2}{\\left (\\frac{y}{2} \\right )} + 1\\right) \\tan{\\left (\\frac{x}{2} \\right )}}{\\left(\\tan^{2}{\\left (\\frac{x}{2} \\right )} + 1\\right) \\left(\\tan^{2}{\\left (\\frac{y}{2} \\right )} + 1\\right)}$$"
       ],
       "metadata": {},
       "output_type": "pyout",
       "png": "[encoded data removed]",
       "prompt_number": 22,
       "text": [
        "    \u239b     2\u239bx\u239e    \u239e    \u239by\u239e        \u239b     2\u239by\u239e    \u239e    \u239bx\u239e \n",
        "  2\u22c5\u239c- tan \u239c\u2500\u239f + 1\u239f\u22c5tan\u239c\u2500\u239f      2\u22c5\u239c- tan \u239c\u2500\u239f + 1\u239f\u22c5tan\u239c\u2500\u239f \n",
        "    \u239d      \u239d2\u23a0    \u23a0    \u239d2\u23a0        \u239d      \u239d2\u23a0    \u23a0    \u239d2\u23a0 \n",
        "\u2500\u2500\u2500\u2500\u2500\u2500\u2500\u2500\u2500\u2500\u2500\u2500\u2500\u2500\u2500\u2500\u2500\u2500\u2500\u2500\u2500\u2500\u2500\u2500\u2500\u2500\u2500 + \u2500\u2500\u2500\u2500\u2500\u2500\u2500\u2500\u2500\u2500\u2500\u2500\u2500\u2500\u2500\u2500\u2500\u2500\u2500\u2500\u2500\u2500\u2500\u2500\u2500\u2500\u2500\n",
        "\u239b   2\u239bx\u239e    \u239e \u239b   2\u239by\u239e    \u239e   \u239b   2\u239bx\u239e    \u239e \u239b   2\u239by\u239e    \u239e\n",
        "\u239ctan \u239c\u2500\u239f + 1\u239f\u22c5\u239ctan \u239c\u2500\u239f + 1\u239f   \u239ctan \u239c\u2500\u239f + 1\u239f\u22c5\u239ctan \u239c\u2500\u239f + 1\u239f\n",
        "\u239d    \u239d2\u23a0    \u23a0 \u239d    \u239d2\u23a0    \u23a0   \u239d    \u239d2\u23a0    \u23a0 \u239d    \u239d2\u23a0    \u23a0"
       ]
      }
     ],
     "prompt_number": 22
    },
    {
     "cell_type": "code",
     "collapsed": false,
     "input": [
      "def miscsimp2(expr):\n",
      "    \"\"\"\n",
      "    >>> miscsimp2(gamma(x + 4))\n",
      "    x**4*gamma(x) + 6*x**3*gamma(x) + 11*x**2*gamma(x) + 6*x*gamma(x)\n",
      "    \"\"\"\n",
      "    return expand(expand_func(expr))"
     ],
     "language": "python",
     "metadata": {},
     "outputs": [],
     "prompt_number": 23
    },
    {
     "cell_type": "code",
     "collapsed": false,
     "input": [
      "miscsimp2(gamma(x + 4))"
     ],
     "language": "python",
     "metadata": {},
     "outputs": [
      {
       "latex": [
        "$$x^{4} \\Gamma{\\left(x \\right)} + 6 x^{3} \\Gamma{\\left(x \\right)} + 11 x^{2} \\Gamma{\\left(x \\right)} + 6 x \\Gamma{\\left(x \\right)}$$"
       ],
       "metadata": {},
       "output_type": "pyout",
       "png": "[encoded data removed]",
       "prompt_number": 24,
       "text": [
        " 4           3            2                \n",
        "x \u22c5\u0393(x) + 6\u22c5x \u22c5\u0393(x) + 11\u22c5x \u22c5\u0393(x) + 6\u22c5x\u22c5\u0393(x)"
       ]
      }
     ],
     "prompt_number": 24
    },
    {
     "cell_type": "heading",
     "level": 2,
     "metadata": {},
     "source": [
      "Continued Fractions"
     ]
    },
    {
     "cell_type": "markdown",
     "metadata": {},
     "source": [
      "If we do not cover this, see http://asmeurer.github.io/scipy-2014-tutorial/html/tutorial/simplification.html#example-continued-fractions."
     ]
    },
    {
     "cell_type": "code",
     "collapsed": false,
     "input": [
      "def list_to_frac(l):\n",
      "    expr = Integer(0)\n",
      "    for i in reversed(l[1:]):\n",
      "        expr += i\n",
      "        expr = 1/expr\n",
      "    return l[0] + expr"
     ],
     "language": "python",
     "metadata": {},
     "outputs": [],
     "prompt_number": 25
    },
    {
     "cell_type": "code",
     "collapsed": false,
     "input": [
      "a0, a1, a2, a3, a4 = symbols('a0:5')"
     ],
     "language": "python",
     "metadata": {},
     "outputs": [],
     "prompt_number": 26
    },
    {
     "cell_type": "markdown",
     "metadata": {},
     "source": [
      "Determine the list used to create the continued fraction $$\\frac{a_{0} a_{1} a_{2} a_{3} a_{4} + a_{0} a_{1} a_{2} + a_{0} a_{3} a_{4} + a_{0} + a_{1} a_{2} a_{3} + a_{1} a_{3} a_{4} + a_{1} + a_{3}}{a_{0} a_{1} a_{2} a_{4} + a_{0} a_{4} + a_{1} a_{2} + a_{1} a_{4} + 1}.$$"
     ]
    },
    {
     "cell_type": "code",
     "collapsed": false,
     "input": [
      "def continued_frac():\n",
      "    \"\"\"\n",
      "    Determine the original list used to create the fraction.  \n",
      "\n",
      "    Return the original list from this function.\n",
      "\n",
      "    >>> orig_frac = (a0*a1*a2*a3*a4 + a0*a1*a2 + a0*a3*a4 + a0 + a1*a2*a3 + a1*a3*a4 + a1 + a3)/(a0*a1*a2*a4 + a0*a4 + a1*a2 + a1*a4 + 1)\n",
      "    >>> pprint(orig_frac)\n",
      "    a\u2080\u22c5a\u2081\u22c5a\u2082\u22c5a\u2083\u22c5a\u2084 + a\u2080\u22c5a\u2081\u22c5a\u2082 + a\u2080\u22c5a\u2083\u22c5a\u2084 + a\u2080 + a\u2081\u22c5a\u2082\u22c5a\u2083 + a\u2081\u22c5a\u2083\u22c5a\u2084 + a\u2081 + a\u2083\n",
      "    \u2500\u2500\u2500\u2500\u2500\u2500\u2500\u2500\u2500\u2500\u2500\u2500\u2500\u2500\u2500\u2500\u2500\u2500\u2500\u2500\u2500\u2500\u2500\u2500\u2500\u2500\u2500\u2500\u2500\u2500\u2500\u2500\u2500\u2500\u2500\u2500\u2500\u2500\u2500\u2500\u2500\u2500\u2500\u2500\u2500\u2500\u2500\u2500\u2500\u2500\u2500\u2500\u2500\u2500\u2500\u2500\u2500\u2500\u2500\u2500\u2500\u2500\u2500\u2500\u2500\u2500\u2500\u2500\u2500\u2500\u2500\u2500\u2500\n",
      "                     a\u2080\u22c5a\u2081\u22c5a\u2082\u22c5a\u2084 + a\u2080\u22c5a\u2084 + a\u2081\u22c5a\u2082 + a\u2081\u22c5a\u2084 + 1\n",
      "    >>> cancel(list_to_frac(continued_frac())) == orig_frac\n",
      "    True\n",
      "    \"\"\"\n",
      "    return [a3, a4, a0, a2, a1]"
     ],
     "language": "python",
     "metadata": {},
     "outputs": [],
     "prompt_number": 28
    },
    {
     "cell_type": "code",
     "collapsed": false,
     "input": [
      "orig_frac = (a0*a1*a2*a3*a4 + a0*a1*a2 + a0*a3*a4 + a0 + a1*a2*a3 + a1*a3*a4 + a1 + a3)/(a0*a1*a2*a4 + a0*a4 + a1*a2 + a1*a4 + 1)"
     ],
     "language": "python",
     "metadata": {},
     "outputs": [],
     "prompt_number": 29
    },
    {
     "cell_type": "code",
     "collapsed": false,
     "input": [
      "orig_frac"
     ],
     "language": "python",
     "metadata": {},
     "outputs": [
      {
       "latex": [
        "$$\\frac{a_{0} a_{1} a_{2} a_{3} a_{4} + a_{0} a_{1} a_{2} + a_{0} a_{3} a_{4} + a_{0} + a_{1} a_{2} a_{3} + a_{1} a_{3} a_{4} + a_{1} + a_{3}}{a_{0} a_{1} a_{2} a_{4} + a_{0} a_{4} + a_{1} a_{2} + a_{1} a_{4} + 1}$$"
       ],
       "metadata": {},
       "output_type": "pyout",
       "png": "[encoded data removed]",
       "prompt_number": 30,
       "text": [
        "a\u2080\u22c5a\u2081\u22c5a\u2082\u22c5a\u2083\u22c5a\u2084 + a\u2080\u22c5a\u2081\u22c5a\u2082 + a\u2080\u22c5a\u2083\u22c5a\u2084 + a\u2080 + a\u2081\u22c5a\u2082\u22c5a\u2083 + a\u2081\u22c5a\u2083\u22c5a\u2084 + a\u2081 + a\u2083\n",
        "\u2500\u2500\u2500\u2500\u2500\u2500\u2500\u2500\u2500\u2500\u2500\u2500\u2500\u2500\u2500\u2500\u2500\u2500\u2500\u2500\u2500\u2500\u2500\u2500\u2500\u2500\u2500\u2500\u2500\u2500\u2500\u2500\u2500\u2500\u2500\u2500\u2500\u2500\u2500\u2500\u2500\u2500\u2500\u2500\u2500\u2500\u2500\u2500\u2500\u2500\u2500\u2500\u2500\u2500\u2500\u2500\u2500\u2500\u2500\u2500\u2500\u2500\u2500\u2500\u2500\u2500\u2500\u2500\u2500\u2500\u2500\u2500\u2500\n",
        "                 a\u2080\u22c5a\u2081\u22c5a\u2082\u22c5a\u2084 + a\u2080\u22c5a\u2084 + a\u2081\u22c5a\u2082 + a\u2081\u22c5a\u2084 + 1                 "
       ]
      }
     ],
     "prompt_number": 30
    },
    {
     "cell_type": "code",
     "collapsed": false,
     "input": [
      "cancel(list_to_frac(continued_frac())) == orig_frac"
     ],
     "language": "python",
     "metadata": {},
     "outputs": [
      {
       "metadata": {},
       "output_type": "pyout",
       "prompt_number": 31,
       "text": [
        "True"
       ]
      }
     ],
     "prompt_number": 31
    },
    {
     "cell_type": "code",
     "collapsed": false,
     "input": [],
     "language": "python",
     "metadata": {},
     "outputs": []
    }
   ],
   "metadata": {}
  }
 ]
}